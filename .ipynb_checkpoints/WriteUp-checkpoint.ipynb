{
 "cells": [
  {
   "cell_type": "markdown",
   "metadata": {},
   "source": [
    "# Write Up"
   ]
  },
  {
   "cell_type": "markdown",
   "metadata": {},
   "source": [
    "## Problem Definition"
   ]
  },
  {
   "cell_type": "markdown",
   "metadata": {},
   "source": [
    "   Perception is an essential element of robotics. Sensing the environment is important for robotic decision making. The 3D Perception Problem for the 3rd Udacity project, challenged our robots to sense the a variety of object in a tabletop scenery.\n"
   ]
  },
  {
   "cell_type": "markdown",
   "metadata": {},
   "source": [
    "## Exercises 1, 2 & 3\n"
   ]
  },
  {
   "cell_type": "markdown",
   "metadata": {},
   "source": [
    "Using RGB-D Cameras, a hybrid sensor, point clouds of the tabletop scenery were established. To highlight the important section, that being the objects on the table top, different filtering techniques (Voxel,Pass Through & RANSAC) were applied to the point clouds. Objects were segmented through a Euclidean clustering algorithm \n",
    "![Euclidean Clustering](\"Photos/EuclideanClustering\")\n",
    "and then recognized through an SVM image classifier."
   ]
  },
  {
   "cell_type": "markdown",
   "metadata": {},
   "source": [
    "## Perception Project"
   ]
  },
  {
   "cell_type": "markdown",
   "metadata": {},
   "source": [
    "![Test World 1](\"Photos/FinalProjectWorld1\")\n",
    "![Test World 2](\"Photos/FinalProjectWorld2Front\")\n",
    "![Test World 2 Sive View](\"Photos/FinalProjectWorld2\")\n",
    "![Test World 3](\"Photos/FinalProjectWorld3Front\")\n",
    "![Test World 3 Side View](\"Photos/FinalProjectWorld3\")"
   ]
  }
 ],
 "metadata": {
  "kernelspec": {
   "display_name": "Python 2",
   "language": "python",
   "name": "python2"
  },
  "language_info": {
   "codemirror_mode": {
    "name": "ipython",
    "version": 2
   },
   "file_extension": ".py",
   "mimetype": "text/x-python",
   "name": "python",
   "nbconvert_exporter": "python",
   "pygments_lexer": "ipython2",
   "version": "2.7.13"
  }
 },
 "nbformat": 4,
 "nbformat_minor": 2
}
